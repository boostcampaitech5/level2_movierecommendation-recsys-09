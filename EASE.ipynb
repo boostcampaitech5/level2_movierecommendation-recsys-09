{
 "cells": [
  {
   "cell_type": "code",
   "execution_count": 3,
   "metadata": {},
   "outputs": [],
   "source": [
    "import pandas as pd\n",
    "import numpy as np\n",
    "import os\n",
    "import time\n",
    "\n",
    "from scipy.sparse import csr_matrix\n",
    "from sklearn.preprocessing import LabelEncoder\n",
    "from multiprocessing import Pool, cpu_count"
   ]
  },
  {
   "cell_type": "code",
   "execution_count": 4,
   "metadata": {},
   "outputs": [],
   "source": [
    "import numpy as np\n",
    "\n",
    "# 딥 러닝 모델이 아니므로 nn.Module을 상속받을 필요가 없다. \n",
    "class EASE_base:\n",
    "    def __init__(self, _lambda):\n",
    "        self.B = None\n",
    "        self._lambda = _lambda\n",
    "        self.user_enc = LabelEncoder()\n",
    "        self.item_enc = LabelEncoder()\n",
    "\n",
    "    def train(self, df):\n",
    "        X = self.generate_rating_matrix(df)\n",
    "        self.X = X\n",
    "        G = X.T.dot(X).toarray() # G = X'X\n",
    "        diag_indices = list(range(G.shape[0]))\n",
    "        G[diag_indices, diag_indices] += self._lambda  # X'X + λI\n",
    "        P = np.linalg.inv(G)  # P = (X'X + λI)^(-1)\n",
    "\n",
    "        B = P / -np.diag(P)  # - P_{ij} / P_{jj} if i ≠ j\n",
    "        min_dim = min(B.shape)  \n",
    "        B[range(min_dim), range(min_dim)] = 0  # 대각행렬 원소만 0으로 만들어주기 위해\n",
    "        self.B = B\n",
    "        self.pred = X.dot(B)\n",
    "    \n",
    "    def generate_rating_matrix(self, df):\n",
    "        users = self.user_enc.fit_transform(df.loc[:, 'user'])\n",
    "        items = self.item_enc.fit_transform(df.loc[:, 'item'])\n",
    "        data = np.ones(df.shape[0])\n",
    "        return csr_matrix((data, (users, items)))\n",
    "    \n",
    "    def forward(self, df, top_k):\n",
    "        users = df['user'].unique()\n",
    "        items = df['item'].unique()\n",
    "        items = self.item_enc.transform(items)\n",
    "        train = df.loc[df.user.isin(users)]\n",
    "        train['label_user'] = self.user_enc.transform(train.user)\n",
    "        train['label_item'] = self.item_enc.transform(train.item)\n",
    "        train_groupby = train.groupby('label_user')\n",
    "        with Pool(cpu_count()) as p:\n",
    "            user_preds = p.starmap(\n",
    "                self.predict_by_user,\n",
    "                [(user, group, self.pred[user, :], items, top_k) for user, group in train_groupby],\n",
    "            )\n",
    "        pred_df = pd.concat(user_preds)\n",
    "        pred_df['user'] = self.user_enc.inverse_transform(pred_df['user'])\n",
    "        pred_df['item'] = self.item_enc.inverse_transform(pred_df['item'])\n",
    "        return pred_df\n",
    "\n",
    "    @staticmethod\n",
    "    def predict_by_user(user, group, pred, items, top_k):\n",
    "        watched_item = set(group['label_item'])\n",
    "        candidates_item = [item for item in items if item not in watched_item]\n",
    "        # 안 본 영화의 index를 기준으로 추출\n",
    "        pred = np.take(pred, candidates_item)\n",
    "        # 큰 순서대로 정렬하고 top_k개의 index 출력\n",
    "        res = np.argpartition(pred, -top_k)[-top_k:]\n",
    "        r = pd.DataFrame(\n",
    "            {\n",
    "                \"user\": [user] * len(res),\n",
    "                \"item\": np.take(candidates_item, res),\n",
    "                \"score\": np.take(pred, res),\n",
    "            }\n",
    "        ).sort_values('score', ascending=False)\n",
    "        return r"
   ]
  },
  {
   "cell_type": "code",
   "execution_count": 5,
   "metadata": {},
   "outputs": [],
   "source": [
    "path = '/opt/ml/input/data/train/'\n",
    "dir_path = 'output/'\n",
    "\n",
    "train = pd.read_csv(path + 'train_ratings.csv')\n",
    "lambda_, top = 400, 10"
   ]
  },
  {
   "cell_type": "code",
   "execution_count": 6,
   "metadata": {},
   "outputs": [],
   "source": [
    "model = EASE_base(lambda_)"
   ]
  },
  {
   "cell_type": "code",
   "execution_count": 7,
   "metadata": {},
   "outputs": [],
   "source": [
    "model.train(train)"
   ]
  },
  {
   "cell_type": "code",
   "execution_count": 8,
   "metadata": {},
   "outputs": [],
   "source": [
    "predict = model.forward(train, top)\n",
    "predict = predict.drop('score',axis = 1)"
   ]
  },
  {
   "cell_type": "code",
   "execution_count": 9,
   "metadata": {},
   "outputs": [],
   "source": [
    "if not os.path.exists(dir_path):\n",
    "        os.makedirs(dir_path)\n",
    "predict.to_csv(dir_path + 'my_ease_{}_{}.csv'.format(lambda_, top), index=False)"
   ]
  }
 ],
 "metadata": {
  "kernelspec": {
   "display_name": "base",
   "language": "python",
   "name": "python3"
  },
  "language_info": {
   "codemirror_mode": {
    "name": "ipython",
    "version": 3
   },
   "file_extension": ".py",
   "mimetype": "text/x-python",
   "name": "python",
   "nbconvert_exporter": "python",
   "pygments_lexer": "ipython3",
   "version": "3.8.5"
  },
  "orig_nbformat": 4
 },
 "nbformat": 4,
 "nbformat_minor": 2
}
